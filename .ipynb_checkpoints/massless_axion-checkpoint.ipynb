{
 "cells": [
  {
   "cell_type": "markdown",
   "metadata": {},
   "source": [
    "# Setup"
   ]
  },
  {
   "cell_type": "code",
   "execution_count": 8,
   "metadata": {
    "execution": {
     "iopub.execute_input": "2024-04-09T14:06:55.616198Z",
     "iopub.status.busy": "2024-04-09T14:06:55.615212Z",
     "iopub.status.idle": "2024-04-09T14:06:56.158896Z",
     "shell.execute_reply": "2024-04-09T14:06:56.158552Z",
     "shell.execute_reply.started": "2024-04-09T14:06:55.616134Z"
    }
   },
   "outputs": [],
   "source": [
    "import numpy as np\n",
    "import scipy as scp\n",
    "from scipy.special import eval_legendre, legendre, spherical_jn\n",
    "import itertools\n",
    "import time\n",
    "from scipy import interpolate\n",
    "from itertools import cycle\n",
    "from math import atan2,degrees,lgamma \n",
    "from scipy.ndimage import gaussian_filter1d\n",
    "from scipy.interpolate import interp2d,interp1d\n",
    "import scipy.interpolate as si\n",
    "from scipy.optimize import fsolve\n",
    "import random\n",
    "import os \n",
    "\n",
    "import matplotlib.pyplot as plt"
   ]
  },
  {
   "cell_type": "markdown",
   "metadata": {},
   "source": [
    "# Reproduce Fig. 2 from astro-ph/0506078"
   ]
  },
  {
   "cell_type": "code",
   "execution_count": 19,
   "metadata": {
    "collapsed": true,
    "execution": {
     "iopub.execute_input": "2024-04-09T14:29:53.707511Z",
     "iopub.status.busy": "2024-04-09T14:29:53.705942Z",
     "iopub.status.idle": "2024-04-09T14:29:53.755934Z",
     "shell.execute_reply": "2024-04-09T14:29:53.755329Z",
     "shell.execute_reply.started": "2024-04-09T14:29:53.707429Z"
    },
    "jupyter": {
     "outputs_hidden": true
    }
   },
   "outputs": [
    {
     "data": {
      "text/plain": [
       "array([[1.02386952e-12, 1.87053797e-03],\n",
       "       [1.24195457e-12, 1.85260327e-03],\n",
       "       [1.47057874e-12, 1.81724811e-03],\n",
       "       [1.80548600e-12, 1.78256767e-03],\n",
       "       [2.16378513e-12, 1.76547643e-03],\n",
       "       [2.59321063e-12, 1.73178400e-03],\n",
       "       [3.26156333e-12, 1.69873456e-03],\n",
       "       [3.90888716e-12, 1.65033922e-03],\n",
       "       [4.57293065e-12, 1.61884408e-03],\n",
       "       [5.61436259e-12, 1.58794999e-03],\n",
       "       [6.97659857e-12, 1.57272474e-03],\n",
       "       [8.36089515e-12, 1.60332262e-03],\n",
       "       [9.78091848e-12, 1.63451579e-03],\n",
       "       [1.13044853e-11, 1.73178400e-03],\n",
       "       [1.32235608e-11, 1.90692990e-03],\n",
       "       [1.45626559e-11, 2.09978937e-03],\n",
       "       [1.60373556e-11, 2.31215389e-03],\n",
       "       [1.76613921e-11, 2.54599614e-03],\n",
       "       [1.89868622e-11, 2.67164188e-03],\n",
       "       [2.06594569e-11, 2.83062831e-03],\n",
       "       [2.33091345e-11, 2.85803107e-03],\n",
       "       [2.59840548e-11, 2.77660847e-03],\n",
       "       [2.86189647e-11, 2.64602621e-03],\n",
       "       [3.19037699e-11, 2.52158516e-03],\n",
       "       [3.68761906e-11, 2.44974759e-03],\n",
       "       [4.11045859e-11, 2.62065615e-03],\n",
       "       [4.47244507e-11, 2.85803107e-03],\n",
       "       [4.75022211e-11, 3.14708121e-03],\n",
       "       [5.10646376e-11, 3.49891228e-03],\n",
       "       [5.55606965e-11, 3.89007665e-03],\n",
       "       [5.97289642e-11, 4.20175729e-03],\n",
       "       [6.73872309e-11, 4.40911539e-03],\n",
       "       [7.33204358e-11, 4.90203682e-03],\n",
       "       [7.69401183e-11, 5.39780975e-03],\n",
       "       [8.17180692e-11, 6.00126325e-03],\n",
       "       [8.37059672e-11, 6.73677252e-03],\n",
       "       [8.67854251e-11, 7.34697880e-03],\n",
       "       [9.10698470e-11, 8.09002364e-03],\n",
       "       [9.79144372e-11, 7.56242513e-03],\n",
       "       [1.02762977e-10, 7.06923445e-03],\n",
       "       [1.10482675e-10, 6.86783865e-03],\n",
       "       [1.14546257e-10, 7.56242513e-03],\n",
       "       [1.18754302e-10, 8.73821234e-03],\n",
       "       [1.30776756e-10, 9.90412013e-03],\n",
       "       [1.44021187e-10, 1.08012198e-02],\n",
       "       [1.60552890e-10, 1.01945533e-02],\n",
       "       [1.66459468e-10, 1.11179599e-02],\n",
       "       [1.68460632e-10, 1.27233804e-02],\n",
       "       [1.78921971e-10, 1.41458033e-02],\n",
       "       [1.90060143e-10, 1.33512833e-02],\n",
       "       [2.06769897e-10, 1.69873456e-02],\n",
       "       [2.22317708e-10, 1.52791931e-02],\n",
       "       [2.30535351e-10, 1.37428028e-02],\n",
       "       [2.38986343e-10, 1.73178400e-02],\n",
       "       [2.53816620e-10, 2.02040917e-02],\n",
       "       [2.72920426e-10, 1.68244712e-02],\n",
       "       [2.89849161e-10, 2.02040917e-02],\n",
       "       [3.04135395e-10, 2.42625944e-02],\n",
       "       [3.27059530e-10, 1.79982436e-02],\n",
       "       [3.30971917e-10, 2.20341466e-02],\n",
       "       [3.43093176e-10, 2.88569911e-02],\n",
       "       [3.68879232e-10, 2.69750553e-02],\n",
       "       [3.64503408e-10, 2.31215389e-02],\n",
       "       [3.87275786e-10, 1.71517968e-02],\n",
       "       [3.96640022e-10, 2.26802865e-02],\n",
       "       [4.11162798e-10, 2.99907584e-02],\n",
       "       [4.26425409e-10, 2.26802865e-02],\n",
       "       [4.52891012e-10, 2.62065615e-02],\n",
       "       [4.86974287e-10, 2.20341466e-02],\n",
       "       [5.17149911e-10, 2.83062831e-02],\n",
       "       [5.42799318e-10, 2.42625944e-02],\n",
       "       [5.42799318e-10, 2.42625944e-02],\n",
       "       [5.69533916e-10, 3.02810931e-02],\n",
       "       [6.04922110e-10, 3.23936773e-02],\n",
       "       [6.50375651e-10, 3.08702217e-02],\n",
       "       [6.58144568e-10, 3.85277865e-02],\n",
       "       [6.82247944e-10, 5.04578650e-02],\n",
       "       [6.82127382e-10, 6.17724717e-02],\n",
       "       [7.33604309e-10, 4.16147090e-02],\n",
       "       [7.69956940e-10, 3.74301664e-02],\n",
       "       [7.98108227e-10, 5.24403126e-02],\n",
       "       [8.47734639e-10, 5.34605562e-02],\n",
       "       [9.00249820e-10, 7.00145472e-02],\n",
       "       [9.56404457e-10, 5.77439217e-02],\n",
       "       [1.02831147e-09, 5.24403126e-02],\n",
       "       [1.06607024e-09, 6.17724717e-02],\n",
       "       [1.07875027e-09, 8.16834159e-02],\n",
       "       [1.14590416e-09, 7.70955460e-02],\n",
       "       [1.24685989e-09, 8.09002364e-02],\n",
       "       [1.26213630e-09, 7.13767033e-02],\n",
       "       [1.29308967e-09, 6.41994608e-02],\n",
       "       [1.35676704e-09, 8.09002364e-02],\n",
       "       [1.44103386e-09, 8.90821715e-02],\n",
       "       [1.53050862e-09, 1.00000000e-01],\n",
       "       [1.60640469e-09, 8.65443048e-02],\n",
       "       [1.70626230e-09, 8.99445587e-02],\n",
       "       [1.74769580e-09, 1.05950888e-01],\n",
       "       [1.76866181e-09, 1.24805668e-01],\n",
       "       [1.83354392e-09, 1.52791931e-01],\n",
       "       [1.97148139e-09, 1.32232714e-01],\n",
       "       [2.17167334e-09, 1.09057843e-01],\n",
       "       [2.30641693e-09, 1.28465529e-01],\n",
       "       [2.44985067e-09, 1.29709179e-01],\n",
       "       [2.53899512e-09, 2.20341466e-01],\n",
       "       [2.72968203e-09, 2.18228835e-01],\n",
       "       [2.79596743e-09, 2.57064343e-01],\n",
       "       [2.86393476e-09, 2.94184134e-01],\n",
       "       [3.04219358e-09, 2.80348828e-01],\n",
       "       [3.11709066e-09, 2.26802865e-01],\n",
       "       [3.15567929e-09, 1.73178400e-01],\n",
       "       [3.23315264e-09, 1.51326964e-01],\n",
       "       [3.39239572e-09, 1.88864628e-01],\n",
       "       [3.51690255e-09, 2.26802865e-01],\n",
       "       [3.69033861e-09, 2.64602621e-01],\n",
       "       [3.91917734e-09, 3.23936773e-01],\n",
       "       [4.16350264e-09, 2.77660847e-01],\n",
       "       [4.37007603e-09, 2.33453741e-01],\n",
       "       [4.53069420e-09, 2.64602621e-01],\n",
       "       [4.81261550e-09, 2.57064343e-01],\n",
       "       [5.04973716e-09, 3.14708121e-01],\n",
       "       [5.23507131e-09, 3.77925205e-01],\n",
       "       [5.42739023e-09, 4.36684085e-01],\n",
       "       [5.69633619e-09, 3.92773573e-01],\n",
       "       [5.90679335e-09, 3.60151606e-01],\n",
       "       [6.12414985e-09, 3.89007665e-01],\n",
       "       [6.27286377e-09, 4.58234587e-01],\n",
       "       [6.50325298e-09, 5.34605562e-01],\n",
       "       [6.82545422e-09, 4.85503616e-01],\n",
       "       [7.33714211e-09, 5.55609771e-01],\n",
       "       [7.70026924e-09, 5.34605562e-01],\n",
       "       [8.08259241e-09, 4.32497164e-01],\n",
       "       [8.48097136e-09, 5.19375156e-01],\n",
       "       [8.79223777e-09, 6.23704790e-01],\n",
       "       [9.11416115e-09, 8.24741772e-01],\n",
       "       [1.01626537e-08, 6.00126325e-01],\n",
       "       [1.07939321e-08, 6.54484825e-01],\n",
       "       [1.13291902e-08, 5.66419342e-01],\n",
       "       [1.17451888e-08, 6.67218044e-01],\n",
       "       [1.21736962e-08, 1.01945533e+00],\n",
       "       [1.29305484e-08, 1.04935033e+00],\n",
       "       [1.37335304e-08, 1.16666349e+00],\n",
       "       [1.53104711e-08, 1.05950888e+00],\n",
       "       [1.60663182e-08, 1.16666349e+00],\n",
       "       [1.72770224e-08, 8.82280528e-01],\n",
       "       [1.85728645e-08, 9.71510947e-01],\n",
       "       [1.92529006e-08, 1.28465529e+00],\n",
       "       [2.02035476e-08, 1.40101735e+00],\n",
       "       [2.19860980e-08, 1.28465529e+00],\n",
       "       [2.22489153e-08, 1.58794999e+00],\n",
       "       [2.27840124e-08, 2.42625944e+00],\n",
       "       [2.42072416e-08, 1.81724811e+00],\n",
       "       [2.57061747e-08, 2.44974759e+00],\n",
       "       [2.73080330e-08, 2.16136460e+00],\n",
       "       [2.90065361e-08, 2.16136460e+00],\n",
       "       [3.04451914e-08, 1.85260327e+00],\n",
       "       [3.27295222e-08, 1.98185159e+00],\n",
       "       [3.43320197e-08, 3.39923158e+00],\n",
       "       [3.64732318e-08, 2.83062831e+00],\n",
       "       [3.87346191e-08, 3.49891228e+00],\n",
       "       [4.11493727e-08, 2.99907584e+00],\n",
       "       [4.31899203e-08, 2.59552933e+00],\n",
       "       [5.23757432e-08, 3.46536475e+00],\n",
       "       [5.56399611e-08, 3.02810931e+00],\n",
       "       [5.76820445e-08, 3.63638164e+00],\n",
       "       [6.05358041e-08, 3.56698477e+00],\n",
       "       [6.50576006e-08, 5.45006490e+00],\n",
       "       [6.91087013e-08, 5.04578650e+00],\n",
       "       [7.25369390e-08, 4.28350387e+00],\n",
       "       [7.51953740e-08, 5.45006490e+00],\n",
       "       [7.98703541e-08, 5.60988521e+00],\n",
       "       [8.58479273e-08, 7.34697880e+00],\n",
       "       [9.11882581e-08, 7.27653606e+00],\n",
       "       [9.68730221e-08, 6.23704790e+00]])"
      ]
     },
     "execution_count": 19,
     "metadata": {},
     "output_type": "execute_result"
    }
   ],
   "source": [
    "fig2_points = 10**(np.genfromtxt('./data/fig2_astro-ph-0506078.txt'))\n",
    "fig2_points"
   ]
  },
  {
   "cell_type": "code",
   "execution_count": 21,
   "metadata": {
    "execution": {
     "iopub.execute_input": "2024-04-09T14:30:36.380464Z",
     "iopub.status.busy": "2024-04-09T14:30:36.379620Z",
     "iopub.status.idle": "2024-04-09T14:30:36.906372Z",
     "shell.execute_reply": "2024-04-09T14:30:36.906045Z",
     "shell.execute_reply.started": "2024-04-09T14:30:36.380381Z"
    }
   },
   "outputs": [
    {
     "data": {
      "image/png": "[encoded data removed]",
      "text/plain": [
       "<Figure size 576x432 with 1 Axes>"
      ]
     },
     "metadata": {
      "needs_background": "light"
     },
     "output_type": "display_data"
    }
   ],
   "source": [
    "fig, ax = plt.subplots(1, 1, figsize=(8, 6))\n",
    "\n",
    "ax.plot(fig2_points[:, 0], fig2_points[:, 1])\n",
    "ax.set_xlabel(r'$n_e\\ [{\\rm cm}^{-3}]$ ', fontsize=15); \n",
    "ax.set_ylabel(r'$g_{10} B_{\\rm nG}$ ', fontsize=15); \n",
    "ax.set_xscale('log'); ax.set_yscale('log')"
   ]
  },
  {
   "cell_type": "code",
   "execution_count": null,
   "metadata": {},
   "outputs": [],
   "source": []
  }
 ],
 "metadata": {
  "kernelspec": {
   "display_name": "Python 3",
   "language": "python",
   "name": "python3"
  },
  "language_info": {
   "codemirror_mode": {
    "name": "ipython",
    "version": 3
   },
   "file_extension": ".py",
   "mimetype": "text/x-python",
   "name": "python",
   "nbconvert_exporter": "python",
   "pygments_lexer": "ipython3",
   "version": "3.8.5"
  }
 },
 "nbformat": 4,
 "nbformat_minor": 4
}
